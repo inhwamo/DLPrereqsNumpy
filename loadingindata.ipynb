{
 "cells": [
  {
   "cell_type": "code",
   "execution_count": 1,
   "metadata": {},
   "outputs": [],
   "source": [
    "# Loading in data with pandas\n",
    "import pandas as pd"
   ]
  },
  {
   "cell_type": "code",
   "execution_count": 2,
   "metadata": {},
   "outputs": [
    {
     "name": "stdout",
     "output_type": "stream",
     "text": [
      "--2023-03-17 22:33:15--  https://raw.githubusercontent.com/lazyprogrammer/machine_learning_examples/master/tf2.0/sbux.csv\n",
      "Resolving raw.githubusercontent.com (raw.githubusercontent.com)... 2606:50c0:8001::154, 2606:50c0:8003::154, 2606:50c0:8002::154, ...\n",
      "Connecting to raw.githubusercontent.com (raw.githubusercontent.com)|2606:50c0:8001::154|:443... connected.\n",
      "HTTP request sent, awaiting response... 200 OK\n",
      "Length: 61896 (60K) [text/plain]\n",
      "Saving to: 'sbux.csv'\n",
      "\n",
      "sbux.csv            100%[===================>]  60.45K  --.-KB/s    in 0.04s   \n",
      "\n",
      "2023-03-17 22:33:16 (1.46 MB/s) - 'sbux.csv' saved [61896/61896]\n",
      "\n"
     ]
    }
   ],
   "source": [
    "!wget https://raw.githubusercontent.com/lazyprogrammer/machine_learning_examples/master/tf2.0/sbux.csv"
   ]
  },
  {
   "cell_type": "code",
   "execution_count": 3,
   "metadata": {},
   "outputs": [],
   "source": [
    "df = pd.read_csv('sbux.csv')"
   ]
  },
  {
   "cell_type": "code",
   "execution_count": 4,
   "metadata": {},
   "outputs": [],
   "source": [
    "# Can also do\n",
    "df = pd.read_csv('https://raw.githubusercontent.com/lazyprogrammer/machine_learning_examples/master/tf2.0/sbux.csv')"
   ]
  },
  {
   "cell_type": "code",
   "execution_count": 5,
   "metadata": {},
   "outputs": [
    {
     "data": {
      "text/plain": [
       "pandas.core.frame.DataFrame"
      ]
     },
     "execution_count": 5,
     "metadata": {},
     "output_type": "execute_result"
    }
   ],
   "source": [
    "type(df)"
   ]
  },
  {
   "cell_type": "code",
   "execution_count": 6,
   "metadata": {},
   "outputs": [
    {
     "name": "stdout",
     "output_type": "stream",
     "text": [
      "date,open,high,low,close,volume,Name\n",
      "2013-02-08,27.92,28.325,27.92,28.185,7146296,SBUX\n",
      "2013-02-11,28.26,28.26,27.93,28.07,5457354,SBUX\n",
      "2013-02-12,28.0,28.275,27.975,28.13,8665592,SBUX\n",
      "2013-02-13,28.23,28.23,27.75,27.915,7022056,SBUX\n",
      "2013-02-14,27.765,27.905,27.675,27.775,8899188,SBUX\n",
      "2013-02-15,27.805,27.85,27.085,27.17,18195730,SBUX\n",
      "2013-02-19,27.18,27.305,27.01,27.225,11760912,SBUX\n",
      "2013-02-20,27.3,27.42,26.59,26.655,12472506,SBUX\n",
      "2013-02-21,26.535,26.82,26.26,26.675,13896450,SBUX\n"
     ]
    }
   ],
   "source": [
    "!head sbux.csv\n",
    "# Stock price for Starbucks"
   ]
  }
 ],
 "metadata": {
  "kernelspec": {
   "display_name": "base",
   "language": "python",
   "name": "python3"
  },
  "language_info": {
   "codemirror_mode": {
    "name": "ipython",
    "version": 3
   },
   "file_extension": ".py",
   "mimetype": "text/x-python",
   "name": "python",
   "nbconvert_exporter": "python",
   "pygments_lexer": "ipython3",
   "version": "3.9.16"
  },
  "orig_nbformat": 4,
  "vscode": {
   "interpreter": {
    "hash": "74082e485d12a9af28957b33c59da7117ff087ab1bb14b9034b7fa798ecfdd43"
   }
  }
 },
 "nbformat": 4,
 "nbformat_minor": 2
}
