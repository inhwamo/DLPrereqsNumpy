{
 "cells": [
  {
   "cell_type": "code",
   "execution_count": 10,
   "metadata": {},
   "outputs": [
    {
     "name": "stdout",
     "output_type": "stream",
     "text": [
      "dt1/dt2: 451.95335832360354\n"
     ]
    }
   ],
   "source": [
    "# Matrix multiplication with lists vs arrays\n",
    "from datetime import datetime\n",
    "import numpy as np\n",
    "\n",
    "\n",
    "def slowmatmult():  # Using lists\n",
    "    mat1 = [[np.random.rand() for i in range(100)] for i in range(100)]\n",
    "    mat2 = [[np.random.rand() for i in range(100)] for i in range(100)]\n",
    "    rows_A = len(mat1)\n",
    "    cols_A = len(mat1[0])\n",
    "    rows_B = len(mat2)\n",
    "    cols_B = len(mat2[0])\n",
    "    if cols_A != rows_B:  # Inner dimensions must match. This code however is not necessary. The dimensions match.\n",
    "        raise ValueError(\"The number of columns in A must be equal to the number of rows in B\")\n",
    "    return [[sum(mat1[i][k] * mat2[k][j] for k in range(cols_A)) for j in range(cols_B)] for i in range(rows_A)]\n",
    "\n",
    "t0 = datetime.now()\n",
    "\n",
    "for t in range(50):\n",
    "    slowmatmult()\n",
    "dt1 = datetime.now() - t0\n",
    "\n",
    "def fastmatmult():\n",
    "    mat1 = np.random.rand(100, 100)\n",
    "    mat2 = np.random.rand(100, 100)\n",
    "    return mat1.dot(mat2)\n",
    "\n",
    "t0 = datetime.now()\n",
    "\n",
    "for t in range(50):\n",
    "    fastmatmult()\n",
    "dt2 = datetime.now() - t0\n",
    "\n",
    "\n",
    "print(\"T = 50. dt1/dt2:\", dt1.total_seconds() / dt2.total_seconds())\n",
    "\n",
    "# Results: 463, 430, 416, 451"
   ]
  }
 ],
 "metadata": {
  "kernelspec": {
   "display_name": "base",
   "language": "python",
   "name": "python3"
  },
  "language_info": {
   "codemirror_mode": {
    "name": "ipython",
    "version": 3
   },
   "file_extension": ".py",
   "mimetype": "text/x-python",
   "name": "python",
   "nbconvert_exporter": "python",
   "pygments_lexer": "ipython3",
   "version": "3.9.16"
  },
  "orig_nbformat": 4,
  "vscode": {
   "interpreter": {
    "hash": "74082e485d12a9af28957b33c59da7117ff087ab1bb14b9034b7fa798ecfdd43"
   }
  }
 },
 "nbformat": 4,
 "nbformat_minor": 2
}
