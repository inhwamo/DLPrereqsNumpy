{
 "cells": [
  {
   "cell_type": "code",
   "execution_count": 2,
   "metadata": {},
   "outputs": [],
   "source": [
    "import numpy as np\n",
    "import matplotlib.pyplot as plt\n",
    "from scipy.stats import norm\n",
    "from PIL import Image\n"
   ]
  },
  {
   "cell_type": "code",
   "execution_count": 4,
   "metadata": {},
   "outputs": [
    {
     "name": "stdout",
     "output_type": "stream",
     "text": [
      "--2023-03-19 14:45:17--  https://upload.wikimedia.org/wikipedia/commons/7/76/Stanley_Park_Labeled_Aerial_Map.png\n",
      "Resolving upload.wikimedia.org (upload.wikimedia.org)... 2620:0:863:ed1a::2:b, 198.35.26.112\n",
      "Connecting to upload.wikimedia.org (upload.wikimedia.org)|2620:0:863:ed1a::2:b|:443... connected.\n",
      "HTTP request sent, awaiting response... 200 OK\n",
      "Length: 1189400 (1.1M) [image/png]\n",
      "Saving to: 'Stanley_Park_Labeled_Aerial_Map.png.4'\n",
      "\n",
      "Stanley_Park_Labele 100%[===================>]   1.13M  4.29MB/s    in 0.3s    \n",
      "\n",
      "2023-03-19 14:45:18 (4.29 MB/s) - 'Stanley_Park_Labeled_Aerial_Map.png.4' saved [1189400/1189400]\n",
      "\n"
     ]
    }
   ],
   "source": [
    "!wget https://upload.wikimedia.org/wikipedia/commons/7/76/Stanley_Park_Labeled_Aerial_Map.png\n",
    "im = Image.open('Stanley_Park_Labeled_Aerial_Map.png')"
   ]
  },
  {
   "cell_type": "code",
   "execution_count": 8,
   "metadata": {},
   "outputs": [],
   "source": [
    "# Sobel filters, used for edge detection\n",
    "\n",
    "# Intensity increases from left to right\n",
    "sobel_x = np.array([[-1, 0, 1], [-2, 0, 2], [-1, 0, 1]])\n",
    "# Alternate sobel_x is [[1, 0, -1], [2, 0, -2], [1, 0, -1]]\n",
    "# In the alternate, intensity increases from right to left\n",
    "\n",
    "# Intensity increases from top to bottom\n",
    "sobel_y = np.array([[-1, -2, -1], [0, 0, 0], [1, 2, 1]])\n",
    "# Alternate sobel_y is [[1, 2, 1], [0, 0, 0], [-1, -2, -1]]\n",
    "# In the alternate, intensity increases from bottom to top"
   ]
  },
  {
   "cell_type": "code",
   "execution_count": 18,
   "metadata": {},
   "outputs": [
    {
     "data": {
      "image/png": "[encoded data removed]",
      "text/plain": [
       "<Figure size 640x480 with 1 Axes>"
      ]
     },
     "metadata": {},
     "output_type": "display_data"
    }
   ],
   "source": [
    "# Implement Edge Detection\n",
    "# Step 1: convolve filter x and filter y with grayscale image to obtain gx and gy\n",
    "# Step 2; compute the magnitude of the gradient as sqrt(gx^2 + gy^2)\n",
    "\n",
    "gray = np.mean(im,axis=2)\n",
    "x = np.linspace(-6,6,50)\n",
    "fx = norm.pdf(x,0,1)\n",
    "filt = np.outer(fx,fx)\n",
    "plt.imshow(filt);  # Plot the image in grayscale\n",
    "\n",
    "from scipy.signal import convolve2d\n"
   ]
  },
  {
   "cell_type": "markdown",
   "metadata": {},
   "source": [
    "gx = convolve2d(gray, sobel_x)\n",
    "gy = convolve2d(gray, sobel_y)\n",
    "mag = np.sqrt(gx**2 + gy**2)\n"
   ]
  }
 ],
 "metadata": {
  "kernelspec": {
   "display_name": "base",
   "language": "python",
   "name": "python3"
  },
  "language_info": {
   "codemirror_mode": {
    "name": "ipython",
    "version": 3
   },
   "file_extension": ".py",
   "mimetype": "text/x-python",
   "name": "python",
   "nbconvert_exporter": "python",
   "pygments_lexer": "ipython3",
   "version": "3.9.16"
  },
  "orig_nbformat": 4,
  "vscode": {
   "interpreter": {
    "hash": "74082e485d12a9af28957b33c59da7117ff087ab1bb14b9034b7fa798ecfdd43"
   }
  }
 },
 "nbformat": 4,
 "nbformat_minor": 2
}
